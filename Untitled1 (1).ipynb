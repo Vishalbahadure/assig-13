{
 "cells": [
  {
   "cell_type": "markdown",
   "id": "31514f4b-d515-4424-a910-6ab3ab223c3c",
   "metadata": {},
   "source": [
    "Q1. Explain why we have to use the Exception class while creating a Custom Exception.\n",
    "When creating a custom exception in Python, it is important to use the Exception class as the base class for several reasons.\n",
    "\n",
    "Firstly, the Exception class provides a standardized structure and behavior for exceptions in Python. By inheriting from the Exception class, our custom exception will have access to all the built-in exception handling mechanisms and features provided by Python. This includes the ability to catch and handle the exception using try-except blocks, as well as accessing useful attributes like the exception message and traceback information.\n",
    "\n",
    "Secondly, using the Exception class as the base class ensures that our custom exception is compatible with existing exception handling code. Since many libraries and frameworks in Python are designed to work with the Exception class, using it as the base class for our custom exception allows for seamless integration with these existing codebases.\n",
    "\n",
    "Lastly, using the Exception class makes our custom exception more informative and self-explanatory. By inheriting from Exception, we signal to other developers that our class represents an exceptional condition or error. This improves code readability and maintainability, as it becomes easier to understand the purpose and intent of our custom exception."
   ]
  },
  {
   "cell_type": "markdown",
   "id": "ff3e106e-4e64-4783-8451-38ec59824acc",
   "metadata": {},
   "source": [
    "Q2. Write a python program to print Python Exception Hierarchy.\n",
    "def print_exception_hierarchy():\n",
    "    base_exception = BaseException\n",
    "    exception_hierarchy = []\n",
    "    \n",
    "    while base_exception is not None:\n",
    "        exception_hierarchy.append(base_exception)\n",
    "        base_exception = base_exception.__base__\n",
    "    \n",
    "    for exception in reversed(exception_hierarchy):\n",
    "        print(exception.__name__)\n",
    "\n",
    "print_exception_hierarchy()\n"
   ]
  },
  {
   "cell_type": "markdown",
   "id": "e533a941-ae62-40d4-a71f-30fb254f3fc0",
   "metadata": {},
   "source": [
    "Q3. What errors are defined in the ArithmeticError class? Explain any two with an example.\n",
    "The ArithmeticError class is a built-in class in Python that serves as the base class for all errors related to arithmetic operations. It provides a way to handle exceptions that occur during arithmetic calculations. Two common errors defined in the ArithmeticError class are:\n",
    "\n",
    "OverflowError: This error occurs when the result of an arithmetic operation exceeds the maximum representable value for a numeric type. For example, if we try to calculate the factorial of a large number using the math module, an OverflowError may occur:\n",
    "import math\n",
    "factorial = math.factorial(1000)\n",
    "\n",
    "ZeroDivisionError: This error occurs when we attempt to divide a number by zero. Division by zero is mathematically undefined, and Python raises a ZeroDivisionError to indicate this. For example\n",
    "result = 10 / 0\n",
    "\n"
   ]
  },
  {
   "cell_type": "markdown",
   "id": "36f2a1bb-7203-4f1d-bb4a-773a38befa79",
   "metadata": {},
   "source": [
    "Q4. Why LookupError class is used? Explain with an example KeyError and IndexError.\n",
    "In Python, the LookupError class is used as a base class for exceptions that occur when a key or index is not found in a collection. It is a subclass of the built-in Exception class and provides a common interface for handling lookup-related errors.\n",
    "\n",
    "The KeyError and IndexError are two specific exceptions derived from the LookupError class. Let's take a closer look at each of them:\n",
    "\n",
    "KeyError: This exception is raised when a dictionary key is not found. For example, consider the following code snippet:\n",
    "my_dict = {'apple': 1, 'banana': 2, 'orange': 3}\n",
    "print(my_dict['grape'])\n",
    "\n",
    "In this case, the key 'grape' does not exist in the dictionary, so a KeyError will be raised. To handle this exception, you can use a try-except block:\n",
    "try:\n",
    "    print(my_dict['grape'])\n",
    "except KeyError:\n",
    "    print(\"Key not found in the dictionary.\")\n",
    "\n",
    "\n",
    "IndexError: This exception is raised when trying to access an index that is out of range in a sequence (e.g., list, tuple, string). Consider the following example:\n",
    "my_list = [1, 2, 3]\n",
    "print(my_list[3])\n",
    "\n",
    "try:\n",
    "    print(my_list[3])\n",
    "except IndexError:\n",
    "    print(\"Index out of range.\")\n"
   ]
  },
  {
   "cell_type": "markdown",
   "id": "cca2f06e-0d3c-4874-b2a3-63117f267399",
   "metadata": {},
   "source": [
    "Q5. Explain ImportError. What is ModuleNotFoundError?\n",
    "n Python, ImportError is an exception that occurs when there is an issue with importing a module or package. It typically indicates that the module or package being imported cannot be found or accessed.\n",
    "\n",
    "On the other hand, ModuleNotFoundError is a specific type of ImportError that is raised when the specified module or package cannot be found. This error is introduced in Python 3.6 as a more specific and informative version of ImportError.\n",
    "\n",
    "When you encounter an ImportError or ModuleNotFoundError, it is usually due to one of the following reasons:\n",
    "\n",
    "Incorrect module or package name: Double-check the spelling and ensure that the module or package name is correct.\n",
    "\n",
    "Missing module or package: Make sure that the required module or package is installed and accessible. You can use the pip package manager to install missing packages.\n",
    "\n",
    "Incorrect file path: If you are importing a module from a specific file path, ensure that the file is located in the correct directory and that the path is specified correctly.\n",
    "\n",
    "To handle these errors, you can use exception handling in your code. For example:\n",
    "try:\n",
    "    import my_module\n",
    "except ModuleNotFoundError:\n",
    "    print(\"The required module cannot be found.\")\n"
   ]
  },
  {
   "cell_type": "markdown",
   "id": "f58a6569-6125-468d-b03d-457b83aa190e",
   "metadata": {},
   "source": [
    "Q6. List down some best practices for exception handling in python.\n",
    "be specific with exception handling: Catch only the exceptions you expect and handle them appropriately. Avoid using a bare except statement, as it can hide potential errors and make debugging difficult.\n",
    "\n",
    "Use multiple except blocks: If you anticipate different types of exceptions, use separate except blocks for each one. This allows you to handle each exception differently and provide more specific error messages.\n",
    "\n",
    "Use the finally block: The finally block is executed regardless of whether an exception occurs or not. It is useful for releasing resources or performing cleanup operations.\n",
    "\n",
    "Avoid excessive nesting: Excessive nesting of try-except blocks can make the code harder to read and maintain. Consider refactoring the code to reduce nesting levels.\n",
    "\n",
    "Log exceptions: Logging exceptions can help in debugging and troubleshooting. Use a logging library like logging to log exceptions along with relevant information such as the error message and stack trace.\n",
    "\n",
    "Reraise exceptions selectively: If you catch an exception but cannot handle it properly, consider reraising it using the raise statement. This allows the exception to propagate up the call stack for higher-level handling.\n",
    "\n",
    "Handle exceptions at the appropriate level: Handle exceptions at the appropriate level of your code. Catching exceptions too early or too late can lead to incorrect error handling or unexpected behavior.\n",
    "\n",
    "Use custom exception classes: Define custom exception classes for specific types of errors in your application. This allows you to handle these exceptions separately and provide more meaningful error messages."
   ]
  }
 ],
 "metadata": {
  "kernelspec": {
   "display_name": "Python 3 (ipykernel)",
   "language": "python",
   "name": "python3"
  },
  "language_info": {
   "codemirror_mode": {
    "name": "ipython",
    "version": 3
   },
   "file_extension": ".py",
   "mimetype": "text/x-python",
   "name": "python",
   "nbconvert_exporter": "python",
   "pygments_lexer": "ipython3",
   "version": "3.10.8"
  }
 },
 "nbformat": 4,
 "nbformat_minor": 5
}
